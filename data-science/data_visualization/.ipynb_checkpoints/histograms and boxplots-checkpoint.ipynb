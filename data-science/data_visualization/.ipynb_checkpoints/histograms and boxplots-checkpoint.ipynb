{
 "cells": [
  {
   "cell_type": "code",
   "execution_count": 1,
   "metadata": {},
   "outputs": [
    {
     "name": "stdout",
     "output_type": "stream",
     "text": [
      "                             FILM  RT_user_norm  Metacritic_user_nom  \\\n",
      "0  Avengers: Age of Ultron (2015)           4.3                 3.55   \n",
      "1               Cinderella (2015)           4.0                 3.75   \n",
      "2                  Ant-Man (2015)           4.5                 4.05   \n",
      "3          Do You Believe? (2015)           4.2                 2.35   \n",
      "4   Hot Tub Time Machine 2 (2015)           1.4                 1.70   \n",
      "\n",
      "   IMDB_norm  Fandango_Ratingvalue  \n",
      "0       3.90                   4.5  \n",
      "1       3.55                   4.5  \n",
      "2       3.90                   4.5  \n",
      "3       2.70                   4.5  \n",
      "4       2.55                   3.0  \n"
     ]
    }
   ],
   "source": [
    "import pandas as pd\n",
    "import matplotlib.pyplot as plt\n",
    "reviews = pd.read_csv('fandango_scores.csv')\n",
    "cols = ['FILM', 'RT_user_norm', 'Metacritic_user_nom', 'IMDB_norm', 'Fandango_Ratingvalue']\n",
    "norm_reviews = reviews[cols]\n",
    "print(norm_reviews[:5])"
   ]
  },
  {
   "cell_type": "code",
   "execution_count": 2,
   "metadata": {},
   "outputs": [
    {
     "name": "stdout",
     "output_type": "stream",
     "text": [
      "2.7     2\n",
      "2.8     2\n",
      "2.9     5\n",
      "3.0     4\n",
      "3.1     3\n",
      "3.2     5\n",
      "3.3     4\n",
      "3.4     9\n",
      "3.5     9\n",
      "3.6     8\n",
      "3.7     9\n",
      "3.8     5\n",
      "3.9    12\n",
      "4.0     7\n",
      "4.1    16\n",
      "4.2    12\n",
      "4.3    11\n",
      "4.4     7\n",
      "4.5     9\n",
      "4.6     4\n",
      "4.8     3\n",
      "Name: Fandango_Ratingvalue, dtype: int64\n",
      "2.00     1\n",
      "2.10     1\n",
      "2.15     1\n",
      "2.20     1\n",
      "2.30     2\n",
      "2.45     2\n",
      "2.50     1\n",
      "2.55     1\n",
      "2.60     2\n",
      "2.70     4\n",
      "2.75     5\n",
      "2.80     2\n",
      "2.85     1\n",
      "2.90     1\n",
      "2.95     3\n",
      "3.00     2\n",
      "3.05     4\n",
      "3.10     1\n",
      "3.15     9\n",
      "3.20     6\n",
      "3.25     4\n",
      "3.30     9\n",
      "3.35     7\n",
      "3.40     1\n",
      "3.45     7\n",
      "3.50     4\n",
      "3.55     7\n",
      "3.60    10\n",
      "3.65     5\n",
      "3.70     8\n",
      "3.75     6\n",
      "3.80     3\n",
      "3.85     4\n",
      "3.90     9\n",
      "3.95     2\n",
      "4.00     1\n",
      "4.05     1\n",
      "4.10     4\n",
      "4.15     1\n",
      "4.20     2\n",
      "4.30     1\n",
      "Name: IMDB_norm, dtype: int64\n"
     ]
    }
   ],
   "source": [
    "fandango_ratings_freq_cnts = norm_reviews['Fandango_Ratingvalue'].value_counts()\n",
    "\n",
    "fandango_distribution = fandango_ratings_freq_cnts.sort_index()\n",
    "\n",
    "imdb_freq = norm_reviews['IMDB_norm'].value_counts()\n",
    "imdb_distribution = imdb_freq.sort_index()\n",
    "\n",
    "print(fandango_distribution)\n",
    "\n",
    "print(imdb_distribution)"
   ]
  },
  {
   "cell_type": "code",
   "execution_count": 3,
   "metadata": {},
   "outputs": [
    {
     "name": "stdout",
     "output_type": "stream",
     "text": [
      "4.8     3\n",
      "4.6     4\n",
      "4.5     9\n",
      "4.4     7\n",
      "4.3    11\n",
      "4.2    12\n",
      "4.1    16\n",
      "4.0     7\n",
      "3.9    12\n",
      "3.8     5\n",
      "3.7     9\n",
      "3.6     8\n",
      "3.5     9\n",
      "3.4     9\n",
      "3.3     4\n",
      "3.2     5\n",
      "3.1     3\n",
      "3.0     4\n",
      "2.9     5\n",
      "2.8     2\n",
      "2.7     2\n",
      "Name: Fandango_Ratingvalue, dtype: int64\n"
     ]
    },
    {
     "data": {
      "image/png": "[encoded data removed]",
      "text/plain": [
       "<matplotlib.figure.Figure at 0x7f8f274e8940>"
      ]
     },
     "metadata": {},
     "output_type": "display_data"
    }
   ],
   "source": [
    "fig, ax = plt.subplots()\n",
    "\n",
    "ax.hist(norm_reviews['Fandango_Ratingvalue'], range=(0,5))\n",
    "\n",
    "print(norm_reviews['Fandango_Ratingvalue'].value_counts().sort_index(ascending=False))\n",
    "plt.show()"
   ]
  },
  {
   "cell_type": "code",
   "execution_count": 7,
   "metadata": {},
   "outputs": [
    {
     "data": {
      "image/png": "[encoded data removed]",
      "text/plain": [
       "<matplotlib.figure.Figure at 0x7f8f24c8aa58>"
      ]
     },
     "metadata": {},
     "output_type": "display_data"
    }
   ],
   "source": [
    "#range for histograms will be same accros all plots\n",
    "#this is important when analyzing data distribution across multiple columns\n",
    "#since hist will make bins in range of min and max values for the column\n",
    "valuespan = (0,5)\n",
    "\n",
    "fig = plt.figure(figsize=(5,20))\n",
    "ax1 = fig.add_subplot(4,1,1)\n",
    "ax2 = fig.add_subplot(4,1,2)\n",
    "ax3 = fig.add_subplot(4,1,3)\n",
    "ax4 = fig.add_subplot(4,1,4)\n",
    "\n",
    "ax1.hist(norm_reviews['Fandango_Ratingvalue'], bins=20, range=valuespan)\n",
    "ax1.set_title('Distribution of Fandango Ratings')\n",
    "ax1.set_ylim(0,50)\n",
    "ax1.set_ylabel('Frequency')\n",
    "\n",
    "ax2.hist(norm_reviews['RT_user_norm'], bins=20, range=valuespan)\n",
    "ax2.set_title('Distribution of Rotten Tomatoes Ratings')\n",
    "ax2.set_ylim(0,50)\n",
    "ax2.set_ylabel('Frequency')\n",
    "\n",
    "ax3.hist(norm_reviews['Metacritic_user_nom'], bins=20, range=valuespan)\n",
    "ax3.set_title('Distribution of Metacritic Ratings')\n",
    "ax3.set_ylim(0,50)\n",
    "ax3.set_ylabel('Frequency')\n",
    "\n",
    "ax4.hist(norm_reviews['IMDB_norm'], bins=20, range=valuespan)\n",
    "ax4.set_title('Distribution of IMDB Ratings')\n",
    "ax4.set_ylim(0,50)\n",
    "ax4.set_ylabel('Frequency')\n",
    "\n",
    "plt.show()"
   ]
  },
  {
   "cell_type": "code",
   "execution_count": 13,
   "metadata": {},
   "outputs": [
    {
     "data": {
      "image/png": "[encoded data removed]",
      "text/plain": [
       "<matplotlib.figure.Figure at 0x7f8f25203588>"
      ]
     },
     "metadata": {},
     "output_type": "display_data"
    }
   ],
   "source": [
    "fig,ax = plt.subplots()\n",
    "ax.boxplot(norm_reviews['RT_user_norm'])\n",
    "ax.set_ylim(0,5)\n",
    "ax.set_xlabel('Rotten Tomatoes')\n",
    "\n",
    "ax1 = fig.add_subplot(1,1,1)\n",
    "\n",
    "plt.show()\n"
   ]
  },
  {
   "cell_type": "code",
   "execution_count": null,
   "metadata": {
    "collapsed": true
   },
   "outputs": [],
   "source": []
  }
 ],
 "metadata": {
  "kernelspec": {
   "display_name": "Python 3",
   "language": "python",
   "name": "python3"
  },
  "language_info": {
   "codemirror_mode": {
    "name": "ipython",
    "version": 3
   },
   "file_extension": ".py",
   "mimetype": "text/x-python",
   "name": "python",
   "nbconvert_exporter": "python",
   "pygments_lexer": "ipython3",
   "version": "3.6.1"
  }
 },
 "nbformat": 4,
 "nbformat_minor": 2
}
