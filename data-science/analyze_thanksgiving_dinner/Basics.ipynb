{
 "cells": [
  {
   "cell_type": "code",
   "execution_count": 4,
   "metadata": {
    "scrolled": true
   },
   "outputs": [
    {
     "name": "stdout",
     "output_type": "stream",
     "text": [
      "   RespondentID Do you celebrate Thanksgiving?  \\\n",
      "0    4337954960                            Yes   \n",
      "\n",
      "  What is typically the main dish at your Thanksgiving dinner?  \\\n",
      "0                                             Turkey             \n",
      "\n",
      "  What is typically the main dish at your Thanksgiving dinner? - Other (please specify)  \\\n",
      "0                                                NaN                                      \n",
      "\n",
      "  How is the main dish typically cooked?  \\\n",
      "0                                  Baked   \n",
      "\n",
      "  How is the main dish typically cooked? - Other (please specify)  \\\n",
      "0                                                NaN                \n",
      "\n",
      "  What kind of stuffing/dressing do you typically have?  \\\n",
      "0                                        Bread-based      \n",
      "\n",
      "  What kind of stuffing/dressing do you typically have? - Other (please specify)  \\\n",
      "0                                                NaN                               \n",
      "\n",
      "  What type of cranberry saucedo you typically have?  \\\n",
      "0                                               None   \n",
      "\n",
      "  What type of cranberry saucedo you typically have? - Other (please specify)  \\\n",
      "0                                                NaN                            \n",
      "\n",
      "        ...         \\\n",
      "0       ...          \n",
      "\n",
      "  Have you ever tried to meet up with hometown friends on Thanksgiving night?  \\\n",
      "0                                                Yes                            \n",
      "\n",
      "  Have you ever attended a \"Friendsgiving?\"  \\\n",
      "0                                        No   \n",
      "\n",
      "  Will you shop any Black Friday sales on Thanksgiving Day?  \\\n",
      "0                                                 No          \n",
      "\n",
      "  Do you work in retail? Will you employer make you work on Black Friday?  \\\n",
      "0                     No                                              NaN   \n",
      "\n",
      "  How would you describe where you live?      Age What is your gender?  \\\n",
      "0                               Suburban  18 - 29                 Male   \n",
      "\n",
      "  How much total combined money did all members of your HOUSEHOLD earn last year?  \\\n",
      "0                                 $75,000 to $99,999                                \n",
      "\n",
      "         US Region  \n",
      "0  Middle Atlantic  \n",
      "\n",
      "[1 rows x 65 columns]\n"
     ]
    }
   ],
   "source": [
    "import pandas as pd\n",
    "import numpy as np\n",
    "#read data\n",
    "data = pd.read_csv('thanksgiving.csv', encoding='Latin-1')\n",
    "#show first row\n",
    "print(data.head(1))"
   ]
  },
  {
   "cell_type": "code",
   "execution_count": 5,
   "metadata": {
    "scrolled": true
   },
   "outputs": [
    {
     "name": "stdout",
     "output_type": "stream",
     "text": [
      "Index(['RespondentID', 'Do you celebrate Thanksgiving?',\n",
      "       'What is typically the main dish at your Thanksgiving dinner?',\n",
      "       'What is typically the main dish at your Thanksgiving dinner? - Other (please specify)',\n",
      "       'How is the main dish typically cooked?',\n",
      "       'How is the main dish typically cooked? - Other (please specify)',\n",
      "       'What kind of stuffing/dressing do you typically have?',\n",
      "       'What kind of stuffing/dressing do you typically have? - Other (please specify)',\n",
      "       'What type of cranberry saucedo you typically have?',\n",
      "       'What type of cranberry saucedo you typically have? - Other (please specify)',\n",
      "       'Do you typically have gravy?',\n",
      "       'Which of these side dishes aretypically served at your Thanksgiving dinner? Please select all that apply. - Brussel sprouts',\n",
      "       'Which of these side dishes aretypically served at your Thanksgiving dinner? Please select all that apply. - Carrots',\n",
      "       'Which of these side dishes aretypically served at your Thanksgiving dinner? Please select all that apply. - Cauliflower',\n",
      "       'Which of these side dishes aretypically served at your Thanksgiving dinner? Please select all that apply. - Corn',\n",
      "       'Which of these side dishes aretypically served at your Thanksgiving dinner? Please select all that apply. - Cornbread',\n",
      "       'Which of these side dishes aretypically served at your Thanksgiving dinner? Please select all that apply. - Fruit salad',\n",
      "       'Which of these side dishes aretypically served at your Thanksgiving dinner? Please select all that apply. - Green beans/green bean casserole',\n",
      "       'Which of these side dishes aretypically served at your Thanksgiving dinner? Please select all that apply. - Macaroni and cheese',\n",
      "       'Which of these side dishes aretypically served at your Thanksgiving dinner? Please select all that apply. - Mashed potatoes',\n",
      "       'Which of these side dishes aretypically served at your Thanksgiving dinner? Please select all that apply. - Rolls/biscuits',\n",
      "       'Which of these side dishes aretypically served at your Thanksgiving dinner? Please select all that apply. - Squash',\n",
      "       'Which of these side dishes aretypically served at your Thanksgiving dinner? Please select all that apply. - Vegetable salad',\n",
      "       'Which of these side dishes aretypically served at your Thanksgiving dinner? Please select all that apply. - Yams/sweet potato casserole',\n",
      "       'Which of these side dishes aretypically served at your Thanksgiving dinner? Please select all that apply. - Other (please specify)',\n",
      "       'Which of these side dishes aretypically served at your Thanksgiving dinner? Please select all that apply. - Other (please specify).1',\n",
      "       'Which type of pie is typically served at your Thanksgiving dinner? Please select all that apply. - Apple',\n",
      "       'Which type of pie is typically served at your Thanksgiving dinner? Please select all that apply. - Buttermilk',\n",
      "       'Which type of pie is typically served at your Thanksgiving dinner? Please select all that apply. - Cherry',\n",
      "       'Which type of pie is typically served at your Thanksgiving dinner? Please select all that apply. - Chocolate',\n",
      "       'Which type of pie is typically served at your Thanksgiving dinner? Please select all that apply. - Coconut cream',\n",
      "       'Which type of pie is typically served at your Thanksgiving dinner? Please select all that apply. - Key lime',\n",
      "       'Which type of pie is typically served at your Thanksgiving dinner? Please select all that apply. - Peach',\n",
      "       'Which type of pie is typically served at your Thanksgiving dinner? Please select all that apply. - Pecan',\n",
      "       'Which type of pie is typically served at your Thanksgiving dinner? Please select all that apply. - Pumpkin',\n",
      "       'Which type of pie is typically served at your Thanksgiving dinner? Please select all that apply. - Sweet Potato',\n",
      "       'Which type of pie is typically served at your Thanksgiving dinner? Please select all that apply. - None',\n",
      "       'Which type of pie is typically served at your Thanksgiving dinner? Please select all that apply. - Other (please specify)',\n",
      "       'Which type of pie is typically served at your Thanksgiving dinner? Please select all that apply. - Other (please specify).1',\n",
      "       'Which of these desserts do you typically have at Thanksgiving dinner? Please select all that apply.   - Apple cobbler',\n",
      "       'Which of these desserts do you typically have at Thanksgiving dinner? Please select all that apply.   - Blondies',\n",
      "       'Which of these desserts do you typically have at Thanksgiving dinner? Please select all that apply.   - Brownies',\n",
      "       'Which of these desserts do you typically have at Thanksgiving dinner? Please select all that apply.   - Carrot cake',\n",
      "       'Which of these desserts do you typically have at Thanksgiving dinner? Please select all that apply.   - Cheesecake',\n",
      "       'Which of these desserts do you typically have at Thanksgiving dinner? Please select all that apply.   - Cookies',\n",
      "       'Which of these desserts do you typically have at Thanksgiving dinner? Please select all that apply.   - Fudge',\n",
      "       'Which of these desserts do you typically have at Thanksgiving dinner? Please select all that apply.   - Ice cream',\n",
      "       'Which of these desserts do you typically have at Thanksgiving dinner? Please select all that apply.   - Peach cobbler',\n",
      "       'Which of these desserts do you typically have at Thanksgiving dinner? Please select all that apply.   - None',\n",
      "       'Which of these desserts do you typically have at Thanksgiving dinner? Please select all that apply.   - Other (please specify)',\n",
      "       'Which of these desserts do you typically have at Thanksgiving dinner? Please select all that apply.   - Other (please specify).1',\n",
      "       'Do you typically pray before or after the Thanksgiving meal?',\n",
      "       'How far will you travel for Thanksgiving?',\n",
      "       'Will you watch any of the following programs on Thanksgiving? Please select all that apply. - Macy's Parade',\n",
      "       'What's the age cutoff at your \"kids' table\" at Thanksgiving?',\n",
      "       'Have you ever tried to meet up with hometown friends on Thanksgiving night?',\n",
      "       'Have you ever attended a \"Friendsgiving?\"',\n",
      "       'Will you shop any Black Friday sales on Thanksgiving Day?',\n",
      "       'Do you work in retail?',\n",
      "       'Will you employer make you work on Black Friday?',\n",
      "       'How would you describe where you live?', 'Age', 'What is your gender?',\n",
      "       'How much total combined money did all members of your HOUSEHOLD earn last year?',\n",
      "       'US Region'],\n",
      "      dtype='object')\n"
     ]
    }
   ],
   "source": [
    "#show column values\n",
    "print(data.columns)"
   ]
  },
  {
   "cell_type": "code",
   "execution_count": 6,
   "metadata": {},
   "outputs": [
    {
     "name": "stdout",
     "output_type": "stream",
     "text": [
      "Yes    980\n",
      "No      78\n",
      "Name: Do you celebrate Thanksgiving?, dtype: int64\n"
     ]
    }
   ],
   "source": [
    "# see categories for 'Do you celebrate Thanksgiving?' column value\n",
    "celebrate_counts = data['Do you celebrate Thanksgiving?'].value_counts()\n",
    "print(celebrate_counts)"
   ]
  },
  {
   "cell_type": "code",
   "execution_count": 7,
   "metadata": {},
   "outputs": [
    {
     "name": "stdout",
     "output_type": "stream",
     "text": [
      "Yes    980\n",
      "Name: Do you celebrate Thanksgiving?, dtype: int64\n"
     ]
    }
   ],
   "source": [
    "# there are rows which do not celebrate thanksgiving, we will drop them, they are useless to us\n",
    "\n",
    "#get all row indexes that are not celebrating thanksgiving\n",
    "celeb_no_rows_index = data[data['Do you celebrate Thanksgiving?'] != 'Yes'].index\n",
    "\n",
    "#drop all rows that match indexes in the list, modify the DF in place\n",
    "data.drop(celeb_no_rows_index,inplace=True)\n",
    "\n",
    "#check if only celebrating rows reamined in the DF\n",
    "celebrate_counts = data['Do you celebrate Thanksgiving?'].value_counts()\n",
    "print(celebrate_counts)"
   ]
  },
  {
   "cell_type": "code",
   "execution_count": 8,
   "metadata": {},
   "outputs": [
    {
     "name": "stdout",
     "output_type": "stream",
     "text": [
      "Turkey                    859\n",
      "Other (please specify)     35\n",
      "Ham/Pork                   29\n",
      "Tofurkey                   20\n",
      "Chicken                    12\n",
      "Roast beef                 11\n",
      "I don't know                5\n",
      "Turducken                   3\n",
      "Name: What is typically the main dish at your Thanksgiving dinner?, dtype: int64\n"
     ]
    }
   ],
   "source": [
    "#see what kind of dishes people do eat for thanksgiving\n",
    "dishes_cnt = data['What is typically the main dish at your Thanksgiving dinner?'].value_counts()\n",
    "print(dishes_cnt)"
   ]
  },
  {
   "cell_type": "code",
   "execution_count": 9,
   "metadata": {},
   "outputs": [
    {
     "name": "stdout",
     "output_type": "stream",
     "text": [
      "4     Yes\n",
      "33    Yes\n",
      "69     No\n",
      "72     No\n",
      "77    Yes\n",
      "Name: Do you typically have gravy?, dtype: object\n"
     ]
    }
   ],
   "source": [
    "#make filter for rows that have tofurkey for dinner\n",
    "has_tofurkey_filter = data['What is typically the main dish at your Thanksgiving dinner?'] == 'Tofurkey'\n",
    "#get rows that have tofurkey for dinner\n",
    "tofurkey_dish_indexes = data[has_tofurkey_filter]\n",
    "\n",
    "gravy_tofurkey = tofurkey_dish_indexes['Do you typically have gravy?'] \n",
    "print(gravy_tofurkey[0:5])"
   ]
  },
  {
   "cell_type": "code",
   "execution_count": 10,
   "metadata": {},
   "outputs": [
    {
     "name": "stdout",
     "output_type": "stream",
     "text": [
      "Apple pie was eaten 514 times out of total 980 dinners\n",
      "Apple    514\n",
      "Name: Which type of pie is typically served at your Thanksgiving dinner? Please select all that apply. - Apple, dtype: int64\n",
      "Pumpkin pie was eaten 729 times out of total 980 dinners\n",
      "Pumpkin    729\n",
      "Name: Which type of pie is typically served at your Thanksgiving dinner? Please select all that apply. - Pumpkin, dtype: int64\n",
      "Pecan pie was eaten 342 times out of total 980 dinners\n",
      "Pecan    342\n",
      "Name: Which type of pie is typically served at your Thanksgiving dinner? Please select all that apply. - Pecan, dtype: int64\n",
      "Apple,pumpkin,pecan pies were eaten 137 times out of total 980 dinners\n"
     ]
    },
    {
     "data": {
      "text/plain": [
       "0    843\n",
       "1    137\n",
       "Name: ate_all_pies, dtype: int64"
      ]
     },
     "execution_count": 10,
     "metadata": {},
     "output_type": "execute_result"
    }
   ],
   "source": [
    "def pieStatsString(df, pie_type):\n",
    "    many_pies = isinstance(pie_type, list)\n",
    "    print((','.join(pie_type) + ' pies were eaten ' if many_pies else pie_type + ' pie was eaten ') + str(len(df)) + ' times out of total ' + str(len(data)) + ' dinners')\n",
    "\n",
    "# make boolean series for ate apple pie\n",
    "applepie_not_ate_filter = pd.isnull(data['Which type of pie is typically served at your Thanksgiving dinner? Please select all that apply. - Apple'])\n",
    "#make boolean series for ate pumpkin pie\n",
    "pumpkinpie_not_ate_filter = pd.isnull(data['Which type of pie is typically served at your Thanksgiving dinner? Please select all that apply. - Pumpkin'])\n",
    "#make boolean series for ate pecan pie\n",
    "pecanpie_not_ate_filter = pd.isnull(data['Which type of pie is typically served at your Thanksgiving dinner? Please select all that apply. - Pecan'])\n",
    "\n",
    "\n",
    "ate_appliepie = data[applepie_not_ate_filter == False]['Which type of pie is typically served at your Thanksgiving dinner? Please select all that apply. - Apple']\n",
    "pieStatsString(ate_appliepie, 'Apple')\n",
    "#with value_counts()\n",
    "print(ate_appliepie.value_counts())\n",
    "\n",
    "\n",
    "ate_pumpkin = data[pumpkinpie_not_ate_filter == False]['Which type of pie is typically served at your Thanksgiving dinner? Please select all that apply. - Pumpkin']\n",
    "pieStatsString(ate_pumpkin, 'Pumpkin')\n",
    "#with value_counts()\n",
    "print(ate_pumpkin.value_counts())\n",
    "\n",
    "ate_pecanpie = data[pecanpie_not_ate_filter == False]['Which type of pie is typically served at your Thanksgiving dinner? Please select all that apply. - Pecan']\n",
    "pieStatsString(ate_pecanpie, 'Pecan')\n",
    "#with value_counts()\n",
    "print(ate_pecanpie.value_counts())\n",
    "\n",
    "#boolean series for ate pies\n",
    "ate_all_pies_filter = (applepie_not_ate_filter==False) & (pumpkinpie_not_ate_filter==False) & (pecanpie_not_ate_filter==False)\n",
    "\n",
    "ate_all_pies = data[ate_all_pies_filter]\n",
    "pieStatsString(ate_all_pies, ['Apple','pumpkin','pecan'])\n",
    "\n",
    "#let's add additiona column so we can easily get rows that ate all type of pies we were looking into at this cell\n",
    "\n",
    "data['ate_all_pies'] = ate_all_pies_filter.astype(int)\n",
    "\n",
    "#lets not fetch it from the table\n",
    "ate_all_pies_column = data['ate_all_pies']\n",
    "\n",
    "#let's show value counts for ate_all_pies_col\n",
    "# 1 is true 0 is false\n",
    "\n",
    "ate_all_pies_column.value_counts()\n"
   ]
  },
  {
   "cell_type": "code",
   "execution_count": 11,
   "metadata": {},
   "outputs": [
    {
     "name": "stdout",
     "output_type": "stream",
     "text": [
      "<class 'str'>\n",
      "<class 'numpy.float64'>\n"
     ]
    },
    {
     "data": {
      "text/plain": [
       "count    947.000000\n",
       "mean      40.089757\n",
       "std       15.352014\n",
       "min       18.000000\n",
       "25%       30.000000\n",
       "50%       45.000000\n",
       "75%       60.000000\n",
       "max       60.000000\n",
       "Name: int_age, dtype: float64"
      ]
     },
     "execution_count": 11,
     "metadata": {},
     "output_type": "execute_result"
    }
   ],
   "source": [
    "#maps age string with custom logic to int type\n",
    "#try/except is used instead of checking for null values in argument, since this is known as pythonic way of programming\n",
    "def parseAge(age_string):\n",
    "    try:\n",
    "        if '+' in age_string:\n",
    "            return int(age_string[0:len(age_string)-1])\n",
    "        \n",
    "        return int(age_string.split(' ')[0])\n",
    "        \n",
    "    except TypeError as e:\n",
    "        return None\n",
    "    \n",
    "age_col = data['Age']\n",
    "# check type of age field in row\n",
    "print(type(age_col.iloc[0]))\n",
    "#check different categories of ages\n",
    "#so we can make a parser\n",
    "age_col.value_counts()\n",
    "\n",
    "#make new column that will have age values as ints so we can perform some computation on it\n",
    "data['int_age'] = age_col.apply(lambda age: parseAge(age))\n",
    "\n",
    "#check if new column looks ok\n",
    "print(type(data['int_age'].iloc[0]))\n",
    "\n",
    "data['int_age'].describe()\n",
    "\n"
   ]
  },
  {
   "cell_type": "code",
   "execution_count": 12,
   "metadata": {},
   "outputs": [
    {
     "data": {
      "text/plain": [
       "45 - 59    269\n",
       "60+        258\n",
       "30 - 44    235\n",
       "18 - 29    185\n",
       "Name: Age, dtype: int64"
      ]
     },
     "execution_count": 12,
     "metadata": {},
     "output_type": "execute_result"
    }
   ],
   "source": [
    "#Is this a true depiction of the ages of survey participants?\n",
    "#Not really, summary statistics displayed above could be out of accuracy for the given data set because\n",
    "#we were taking always the lowest possbile age for each category which means our mean is always lower\n",
    "#which implies that standard deviation is lower as well, so the actual age population of this sample data set \n",
    "#is probably more sparse \n",
    "\n",
    "#for instance\n",
    "#out of 218 people from category 18-29 we took each of them as 18 year old, which is quite bad \n",
    "#assumption(probably very bad assumption, especially when it comes to analyzing data)\n",
    "data['Age'].value_counts()\n"
   ]
  },
  {
   "cell_type": "code",
   "execution_count": 13,
   "metadata": {},
   "outputs": [
    {
     "data": {
      "text/plain": [
       "count       829.000000\n",
       "mean      75965.018094\n",
       "std       59068.636748\n",
       "min           0.000000\n",
       "25%       25000.000000\n",
       "50%       75000.000000\n",
       "75%      100000.000000\n",
       "max      200000.000000\n",
       "Name: int_income, dtype: float64"
      ]
     },
     "execution_count": 13,
     "metadata": {},
     "output_type": "execute_result"
    }
   ],
   "source": [
    "import re\n",
    "\n",
    "total_earned_money = data['How much total combined money did all members of your HOUSEHOLD earn last year?']\n",
    "\n",
    "#display categories for total earned money, so we can write a parser\n",
    "total_earned_money.value_counts()\n",
    "\n",
    "#function for parsing money\n",
    "def parseMoney(money_string):\n",
    "    try:\n",
    "        money_string = money_string.lower()\n",
    "        if 'prefer' in money_string:\n",
    "            return None\n",
    "\n",
    "        return int(re.sub('\\\\$|,', '', money_string.split(' ')[0]))\n",
    "    except (TypeError, AttributeError) as e:\n",
    "        return None\n",
    "\n",
    "#make integer income column so we can do computations \n",
    "data['int_income'] = total_earned_money.apply(lambda x: parseMoney(x))\n",
    "\n",
    "data['int_income'].describe()"
   ]
  },
  {
   "cell_type": "code",
   "execution_count": 37,
   "metadata": {
    "collapsed": true
   },
   "outputs": [],
   "source": [
    "#Is there anything that we should be aware of about the results or our methodology?\n",
    "#Is this a true depiction of the incomes of survey participants?\n",
    "\n",
    "#i think there might be same problem as with age since we are always taking the lower boundary for wage\n",
    "# which can be quite untrue and therefore describe function gives bad statistics information on the data-set"
   ]
  },
  {
   "cell_type": "code",
   "execution_count": 43,
   "metadata": {},
   "outputs": [
    {
     "name": "stdout",
     "output_type": "stream",
     "text": [
      "People with income lower than 150000\n",
      "Thanksgiving is happening at my home--I won't travel at all                         281\n",
      "Thanksgiving is local--it will take place in the town I live in                     203\n",
      "Thanksgiving is out of town but not too far--it's a drive of a few hours or less    150\n",
      "Thanksgiving is out of town and far away--I have to drive several hours or fly       55\n",
      "Name: How far will you travel for Thanksgiving?, dtype: int64\n",
      "0.29753265602322204% of people with lower income are traveling, going out of town for thanksgiving\n",
      "0.07982583454281568% of people with lower income might take a plane for thanksgiving\n",
      "People with income greater than 150000\n",
      "Thanksgiving is happening at my home--I won't travel at all                         49\n",
      "Thanksgiving is local--it will take place in the town I live in                     25\n",
      "Thanksgiving is out of town but not too far--it's a drive of a few hours or less    16\n",
      "Thanksgiving is out of town and far away--I have to drive several hours or fly      12\n",
      "Name: How far will you travel for Thanksgiving?, dtype: int64\n",
      "0.27450980392156865% of people with higher income are traveling, goint out of town for thankgsiving\n",
      "0.11764705882352941% of people with higher income might take a plane for thanksgiving\n"
     ]
    }
   ],
   "source": [
    "travel = data['How far will you travel for Thanksgiving?']\n",
    "income = data['int_income']\n",
    "\n",
    "income_less_150000 = income < 150000\n",
    "income_less_150000_rows = data[income_less_150000]\n",
    "income_less_150000_travel_col = income_less_150000_rows['How far will you travel for Thanksgiving?']\n",
    "print('People with income lower than 150000')\n",
    "print(income_less_150000_travel_col.value_counts())\n",
    "percentage_people_do_travel_income_lower_150000 = 205/len(income_less_150000_travel_col)\n",
    "percentage_people_do_travel_fly_income_lower_150000 = 55/len(income_less_150000_travel_col)\n",
    "print(str(percentage_people_do_travel_income_lower_150000) + '% of people with lower income are traveling, going out of town for thanksgiving')\n",
    "print(str(percentage_people_do_travel_fly_income_lower_150000) + '% of people with lower income might take a plane for thanksgiving')\n",
    "\n",
    "income_greater_150000 = income > 150000\n",
    "income_greater_150000_rows = data[income_greater_150000]\n",
    "income_greater_150000_travel_col = income_greater_150000_rows['How far will you travel for Thanksgiving?']\n",
    "print('People with income greater than 150000')\n",
    "print(income_greater_150000_travel_col.value_counts())\n",
    "percentage_people_do_travel_income_greater_150000 = 28 / len(income_greater_150000_travel_col)\n",
    "percentage_people_do_travel_fly_income_greater_150000 = 12 / len(income_greater_150000_travel_col)\n",
    "print(str(percentage_people_do_travel_income_greater_150000) + '% of people with higher income are traveling, goint out of town for thankgsiving')\n",
    "print(str(percentage_people_do_travel_fly_income_greater_150000) + '% of people with higher income might take a plane for thanksgiving')"
   ]
  },
  {
   "cell_type": "code",
   "execution_count": 44,
   "metadata": {
    "collapsed": true
   },
   "outputs": [],
   "source": [
    "#by looking at the numbers above\n",
    "#we can say that higher percent of people with greater income are ready to go on longer trip\n",
    "#that may require affording ticket for the plane\n"
   ]
  },
  {
   "cell_type": "code",
   "execution_count": 80,
   "metadata": {},
   "outputs": [
    {
     "data": {
      "text/html": [
       "<div>\n",
       "<style>\n",
       "    .dataframe thead tr:only-child th {\n",
       "        text-align: right;\n",
       "    }\n",
       "\n",
       "    .dataframe thead th {\n",
       "        text-align: left;\n",
       "    }\n",
       "\n",
       "    .dataframe tbody tr th {\n",
       "        vertical-align: top;\n",
       "    }\n",
       "</style>\n",
       "<table border=\"1\" class=\"dataframe\">\n",
       "  <thead>\n",
       "    <tr style=\"text-align: right;\">\n",
       "      <th>Have you ever attended a \"Friendsgiving?\"</th>\n",
       "      <th>No</th>\n",
       "      <th>Yes</th>\n",
       "    </tr>\n",
       "    <tr>\n",
       "      <th>Have you ever tried to meet up with hometown friends on Thanksgiving night?</th>\n",
       "      <th></th>\n",
       "      <th></th>\n",
       "    </tr>\n",
       "  </thead>\n",
       "  <tbody>\n",
       "    <tr>\n",
       "      <th>No</th>\n",
       "      <td>42.283702</td>\n",
       "      <td>37.010526</td>\n",
       "    </tr>\n",
       "    <tr>\n",
       "      <th>Yes</th>\n",
       "      <td>41.475410</td>\n",
       "      <td>33.976744</td>\n",
       "    </tr>\n",
       "  </tbody>\n",
       "</table>\n",
       "</div>"
      ],
      "text/plain": [
       "Have you ever attended a \"Friendsgiving?\"                  No        Yes\n",
       "Have you ever tried to meet up with hometown fr...                      \n",
       "No                                                  42.283702  37.010526\n",
       "Yes                                                 41.475410  33.976744"
      ]
     },
     "execution_count": 80,
     "metadata": {},
     "output_type": "execute_result"
    }
   ],
   "source": [
    "data.pivot_table(values='int_age',index=\"Have you ever tried to meet up with hometown friends on Thanksgiving night?\", columns='Have you ever attended a \"Friendsgiving?\"')\n"
   ]
  },
  {
   "cell_type": "code",
   "execution_count": 81,
   "metadata": {},
   "outputs": [
    {
     "data": {
      "text/html": [
       "<div>\n",
       "<style>\n",
       "    .dataframe thead tr:only-child th {\n",
       "        text-align: right;\n",
       "    }\n",
       "\n",
       "    .dataframe thead th {\n",
       "        text-align: left;\n",
       "    }\n",
       "\n",
       "    .dataframe tbody tr th {\n",
       "        vertical-align: top;\n",
       "    }\n",
       "</style>\n",
       "<table border=\"1\" class=\"dataframe\">\n",
       "  <thead>\n",
       "    <tr style=\"text-align: right;\">\n",
       "      <th>Have you ever attended a \"Friendsgiving?\"</th>\n",
       "      <th>No</th>\n",
       "      <th>Yes</th>\n",
       "    </tr>\n",
       "    <tr>\n",
       "      <th>Have you ever tried to meet up with hometown friends on Thanksgiving night?</th>\n",
       "      <th></th>\n",
       "      <th></th>\n",
       "    </tr>\n",
       "  </thead>\n",
       "  <tbody>\n",
       "    <tr>\n",
       "      <th>No</th>\n",
       "      <td>78914.549654</td>\n",
       "      <td>72894.736842</td>\n",
       "    </tr>\n",
       "    <tr>\n",
       "      <th>Yes</th>\n",
       "      <td>78750.000000</td>\n",
       "      <td>66019.736842</td>\n",
       "    </tr>\n",
       "  </tbody>\n",
       "</table>\n",
       "</div>"
      ],
      "text/plain": [
       "Have you ever attended a \"Friendsgiving?\"                     No           Yes\n",
       "Have you ever tried to meet up with hometown fr...                            \n",
       "No                                                  78914.549654  72894.736842\n",
       "Yes                                                 78750.000000  66019.736842"
      ]
     },
     "execution_count": 81,
     "metadata": {},
     "output_type": "execute_result"
    }
   ],
   "source": [
    "data.pivot_table(values='int_income', index=\"Have you ever tried to meet up with hometown friends on Thanksgiving night?\", columns='Have you ever attended a \"Friendsgiving?\"')"
   ]
  },
  {
   "cell_type": "code",
   "execution_count": 82,
   "metadata": {
    "collapsed": true
   },
   "outputs": [],
   "source": [
    "#obesrving the pivot tables above we can make a conclusion that youngest people did attend friendsgiving and met up\n",
    "#with hometown friends during thanksgiving night\n",
    "#also those that do meet their friends on thanksgiving and attend a friendsgiving do have lowest incomes as well\n",
    "#This analysis confirms our previous analysis that higher income people more often go on longer trips which excludes\n",
    "#option to meet up with a friend in hometown and celebrate thanksgiving"
   ]
  },
  {
   "cell_type": "code",
   "execution_count": null,
   "metadata": {
    "collapsed": true
   },
   "outputs": [],
   "source": []
  }
 ],
 "metadata": {
  "kernelspec": {
   "display_name": "Python 3",
   "language": "python",
   "name": "python3"
  },
  "language_info": {
   "codemirror_mode": {
    "name": "ipython",
    "version": 3
   },
   "file_extension": ".py",
   "mimetype": "text/x-python",
   "name": "python",
   "nbconvert_exporter": "python",
   "pygments_lexer": "ipython3",
   "version": "3.6.1"
  }
 },
 "nbformat": 4,
 "nbformat_minor": 1
}
